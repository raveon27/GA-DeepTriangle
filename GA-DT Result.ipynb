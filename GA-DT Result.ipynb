{
 "cells": [
  {
   "cell_type": "code",
   "execution_count": 1,
   "id": "b21c3a8c",
   "metadata": {
    "_execution_state": "idle",
    "_uuid": "051d70d956493feee0c6d64651c6a088724dca2a",
    "execution": {
     "iopub.execute_input": "2022-11-29T18:34:27.251355Z",
     "iopub.status.busy": "2022-11-29T18:34:27.249022Z",
     "iopub.status.idle": "2022-11-29T18:38:53.626669Z",
     "shell.execute_reply": "2022-11-29T18:38:53.624398Z"
    },
    "papermill": {
     "duration": 266.399061,
     "end_time": "2022-11-29T18:38:53.642012",
     "exception": false,
     "start_time": "2022-11-29T18:34:27.242951",
     "status": "completed"
    },
    "tags": []
   },
   "outputs": [
    {
     "name": "stderr",
     "output_type": "stream",
     "text": [
      "Downloading GitHub repo kasaai/deeptriangle@HEAD\n",
      "\n"
     ]
    },
    {
     "name": "stdout",
     "output_type": "stream",
     "text": [
      "ps          (1.7.1     -> 1.7.2    ) [CRAN]\n",
      "processx    (3.7.0     -> 3.8.0    ) [CRAN]\n",
      "callr       (3.7.2     -> 3.7.3    ) [CRAN]\n",
      "matrixStats (0.62.0    -> 0.63.0   ) [CRAN]\n",
      "vctrs       (0.4.2     -> 0.5.1    ) [CRAN]\n",
      "RcppEigen   (0.3.3.9.2 -> 0.3.3.9.3) [CRAN]\n",
      "pkgbuild    (1.2.0     -> 1.4.0    ) [CRAN]\n",
      "ggplot2     (3.3.6     -> 3.4.0    ) [CRAN]\n",
      "png         (0.1-7     -> 0.1-8    ) [CRAN]\n",
      "yaml        (2.3.5     -> 2.3.6    ) [CRAN]\n",
      "jsonlite    (1.8.2     -> 1.8.3    ) [CRAN]\n",
      "ggfan       (NA        -> 0.1.3    ) [CRAN]\n",
      "keras       (2.6.0     -> 2.9.0    ) [CRAN]\n"
     ]
    },
    {
     "name": "stderr",
     "output_type": "stream",
     "text": [
      "Installing 13 packages: ps, processx, callr, matrixStats, vctrs, RcppEigen, pkgbuild, ggplot2, png, yaml, jsonlite, ggfan, keras\n",
      "\n",
      "Installing packages into ‘/usr/local/lib/R/site-library’\n",
      "(as ‘lib’ is unspecified)\n",
      "\n",
      "Warning message in i.p(...):\n",
      "“installation of package ‘vctrs’ had non-zero exit status”\n",
      "Warning message in i.p(...):\n",
      "“installation of package ‘jsonlite’ had non-zero exit status”\n",
      "Warning message in i.p(...):\n",
      "“installation of package ‘ggplot2’ had non-zero exit status”\n"
     ]
    },
    {
     "name": "stdout",
     "output_type": "stream",
     "text": [
      "\u001b[32m✔\u001b[39m  \u001b[90mchecking for file ‘/tmp/RtmpZxv1wg/remotesee9c88d2/kasaai-deeptriangle-ab2dd55/DESCRIPTION’\u001b[39m\u001b[36m\u001b[39m\n",
      "\u001b[90m─\u001b[39m\u001b[90m  \u001b[39m\u001b[90mpreparing ‘deeptriangle’:\u001b[39m\u001b[36m\u001b[39m\n",
      "\u001b[32m✔\u001b[39m  \u001b[90mchecking DESCRIPTION meta-information\u001b[39m\u001b[36m\u001b[39m\n",
      "\u001b[90m─\u001b[39m\u001b[90m  \u001b[39m\u001b[90mchecking for LF line-endings in source and make files and shell scripts\u001b[39m\u001b[36m\u001b[39m\n",
      "\u001b[90m─\u001b[39m\u001b[90m  \u001b[39m\u001b[90mchecking for empty or unneeded directories\u001b[39m\u001b[36m\u001b[39m\n",
      "\u001b[90m─\u001b[39m\u001b[90m  \u001b[39m\u001b[90mbuilding ‘deeptriangle_0.3.0.tar.gz’\u001b[39m\u001b[36m\u001b[39m\n",
      "   \n",
      "\r"
     ]
    },
    {
     "name": "stderr",
     "output_type": "stream",
     "text": [
      "Installing package into ‘/usr/local/lib/R/site-library’\n",
      "(as ‘lib’ is unspecified)\n",
      "\n",
      "Downloading GitHub repo kasaai/insurance@HEAD\n",
      "\n"
     ]
    },
    {
     "name": "stdout",
     "output_type": "stream",
     "text": [
      "vctrs (0.4.2 -> 0.5.1) [CRAN]\n"
     ]
    },
    {
     "name": "stderr",
     "output_type": "stream",
     "text": [
      "Installing 1 packages: vctrs\n",
      "\n",
      "Installing package into ‘/usr/local/lib/R/site-library’\n",
      "(as ‘lib’ is unspecified)\n",
      "\n",
      "Warning message in i.p(...):\n",
      "“installation of package ‘vctrs’ had non-zero exit status”\n"
     ]
    },
    {
     "name": "stdout",
     "output_type": "stream",
     "text": [
      "\u001b[32m✔\u001b[39m  \u001b[90mchecking for file ‘/tmp/RtmpZxv1wg/remotese46def952/kasaai-insurance-f323fa1/DESCRIPTION’\u001b[39m\u001b[36m\u001b[39m\n",
      "\u001b[90m─\u001b[39m\u001b[90m  \u001b[39m\u001b[90mpreparing ‘insurance’:\u001b[39m\u001b[36m\u001b[39m\n",
      "\u001b[32m✔\u001b[39m  \u001b[90mchecking DESCRIPTION meta-information\u001b[39m\u001b[36m\u001b[39m\n",
      "\u001b[90m─\u001b[39m\u001b[90m  \u001b[39m\u001b[90mchecking for LF line-endings in source and make files and shell scripts\u001b[39m\u001b[36m\u001b[39m\n",
      "\u001b[90m─\u001b[39m\u001b[90m  \u001b[39m\u001b[90mchecking for empty or unneeded directories\u001b[39m\u001b[36m\u001b[39m\n",
      "\u001b[90m─\u001b[39m\u001b[90m  \u001b[39m\u001b[90mbuilding ‘insurance_0.2.0.tar.gz’\u001b[39m\u001b[36m\u001b[39m\n",
      "   \n",
      "\r"
     ]
    },
    {
     "name": "stderr",
     "output_type": "stream",
     "text": [
      "Installing package into ‘/usr/local/lib/R/site-library’\n",
      "(as ‘lib’ is unspecified)\n",
      "\n"
     ]
    }
   ],
   "source": [
    "devtools::install_github(\"kasaai/deeptriangle\")\n",
    "devtools::install_github(\"kasaai/insurance\")"
   ]
  },
  {
   "cell_type": "code",
   "execution_count": 2,
   "id": "b6bd330f",
   "metadata": {
    "execution": {
     "iopub.execute_input": "2022-11-29T18:38:53.702542Z",
     "iopub.status.busy": "2022-11-29T18:38:53.674106Z",
     "iopub.status.idle": "2022-11-29T18:39:32.741477Z",
     "shell.execute_reply": "2022-11-29T18:39:32.739901Z"
    },
    "papermill": {
     "duration": 39.09333,
     "end_time": "2022-11-29T18:39:32.744595",
     "exception": false,
     "start_time": "2022-11-29T18:38:53.651265",
     "status": "completed"
    },
    "tags": []
   },
   "outputs": [
    {
     "name": "stderr",
     "output_type": "stream",
     "text": [
      "Installing package into ‘/usr/local/lib/R/site-library’\n",
      "(as ‘lib’ is unspecified)\n",
      "\n"
     ]
    }
   ],
   "source": [
    "install.packages(\"GA\")"
   ]
  },
  {
   "cell_type": "code",
   "execution_count": 3,
   "id": "1750b272",
   "metadata": {
    "execution": {
     "iopub.execute_input": "2022-11-29T18:39:32.758038Z",
     "iopub.status.busy": "2022-11-29T18:39:32.756878Z",
     "iopub.status.idle": "2022-11-29T18:39:35.370899Z",
     "shell.execute_reply": "2022-11-29T18:39:35.369473Z"
    },
    "papermill": {
     "duration": 2.622429,
     "end_time": "2022-11-29T18:39:35.373472",
     "exception": false,
     "start_time": "2022-11-29T18:39:32.751043",
     "status": "completed"
    },
    "tags": []
   },
   "outputs": [
    {
     "name": "stderr",
     "output_type": "stream",
     "text": [
      "Loading required package: dplyr\n",
      "\n",
      "\n",
      "Attaching package: ‘dplyr’\n",
      "\n",
      "\n",
      "The following objects are masked from ‘package:stats’:\n",
      "\n",
      "    filter, lag\n",
      "\n",
      "\n",
      "The following objects are masked from ‘package:base’:\n",
      "\n",
      "    intersect, setdiff, setequal, union\n",
      "\n",
      "\n",
      "\n",
      "Attaching package: ‘recipes’\n",
      "\n",
      "\n",
      "The following object is masked from ‘package:stats’:\n",
      "\n",
      "    step\n",
      "\n",
      "\n",
      "── \u001b[1mAttaching packages\u001b[22m ─────────────────────────────────────── tidyverse 1.3.2 ──\n",
      "\u001b[32m✔\u001b[39m \u001b[34mggplot2\u001b[39m 3.3.6     \u001b[32m✔\u001b[39m \u001b[34mpurrr  \u001b[39m 0.3.5\n",
      "\u001b[32m✔\u001b[39m \u001b[34mtibble \u001b[39m 3.1.8     \u001b[32m✔\u001b[39m \u001b[34mstringr\u001b[39m 1.4.1\n",
      "\u001b[32m✔\u001b[39m \u001b[34mtidyr  \u001b[39m 1.2.1     \u001b[32m✔\u001b[39m \u001b[34mforcats\u001b[39m 0.5.2\n",
      "\u001b[32m✔\u001b[39m \u001b[34mreadr  \u001b[39m 2.1.3     \n",
      "── \u001b[1mConflicts\u001b[22m ────────────────────────────────────────── tidyverse_conflicts() ──\n",
      "\u001b[31m✖\u001b[39m \u001b[34mdplyr\u001b[39m::\u001b[32mfilter()\u001b[39m  masks \u001b[34mstats\u001b[39m::filter()\n",
      "\u001b[31m✖\u001b[39m \u001b[34mstringr\u001b[39m::\u001b[32mfixed()\u001b[39m masks \u001b[34mrecipes\u001b[39m::fixed()\n",
      "\u001b[31m✖\u001b[39m \u001b[34mdplyr\u001b[39m::\u001b[32mlag()\u001b[39m     masks \u001b[34mstats\u001b[39m::lag()\n",
      "Loading required package: foreach\n",
      "\n",
      "\n",
      "Attaching package: ‘foreach’\n",
      "\n",
      "\n",
      "The following objects are masked from ‘package:purrr’:\n",
      "\n",
      "    accumulate, when\n",
      "\n",
      "\n",
      "Loading required package: iterators\n",
      "\n",
      "Package 'GA' version 3.2.3\n",
      "Type 'citation(\"GA\")' for citing this R package in publications.\n",
      "\n",
      "\n",
      "Attaching package: ‘GA’\n",
      "\n",
      "\n",
      "The following object is masked from ‘package:utils’:\n",
      "\n",
      "    de\n",
      "\n",
      "\n"
     ]
    }
   ],
   "source": [
    "library(recipes)\n",
    "library(insurance)\n",
    "library(tidyverse)\n",
    "library(deeptriangle)\n",
    "library(keras)\n",
    "library(tensorflow)\n",
    "library(GA)\n",
    "library(tictoc)"
   ]
  },
  {
   "cell_type": "code",
   "execution_count": 4,
   "id": "5d79afd4",
   "metadata": {
    "execution": {
     "iopub.execute_input": "2022-11-29T18:39:35.387022Z",
     "iopub.status.busy": "2022-11-29T18:39:35.385324Z",
     "iopub.status.idle": "2022-11-29T18:39:35.397833Z",
     "shell.execute_reply": "2022-11-29T18:39:35.396315Z"
    },
    "papermill": {
     "duration": 0.021476,
     "end_time": "2022-11-29T18:39:35.400054",
     "exception": false,
     "start_time": "2022-11-29T18:39:35.378578",
     "status": "completed"
    },
    "tags": []
   },
   "outputs": [],
   "source": [
    "set.seed(1234)"
   ]
  },
  {
   "cell_type": "code",
   "execution_count": 5,
   "id": "9ade3cbf",
   "metadata": {
    "execution": {
     "iopub.execute_input": "2022-11-29T18:39:35.413678Z",
     "iopub.status.busy": "2022-11-29T18:39:35.412493Z",
     "iopub.status.idle": "2022-11-29T18:39:35.438152Z",
     "shell.execute_reply": "2022-11-29T18:39:35.436846Z"
    },
    "papermill": {
     "duration": 0.034505,
     "end_time": "2022-11-29T18:39:35.440317",
     "exception": false,
     "start_time": "2022-11-29T18:39:35.405812",
     "status": "completed"
    },
    "tags": []
   },
   "outputs": [],
   "source": [
    "#' Given a time series, return a list\n",
    "#'  where each element is a vector representing a window\n",
    "#'  of the time series determined by the offsets\n",
    "make_series <- function(v, start_offset, end_offset, na_pad = -99) {\n",
    "  prepad_mask <- function(v, l = 9) {\n",
    "    length_diff <- l - length(v)\n",
    "    if (length_diff > 0) {\n",
    "      c(rep(na_pad, length_diff), v)\n",
    "    } else {\n",
    "      v\n",
    "    }\n",
    "  }\n",
    "  \n",
    "  purrr::map(\n",
    "    seq_along(v),\n",
    "    function(x) {\n",
    "      start <- max(0, x + start_offset)\n",
    "      end <- max(0, x + end_offset)\n",
    "      out <- v[start:end]\n",
    "      ifelse(is.na(out), na_pad, out)\n",
    "    } %>%\n",
    "      prepad_mask()\n",
    "  )\n",
    "}\n",
    "\n",
    "mutate_series <- function(data, timesteps = 9) {\n",
    "  data %>%\n",
    "    dplyr::group_by(.data$lob, .data$group_code, .data$accident_year) %>%\n",
    "    dplyr::arrange(.data$lob, .data$group_code, .data$accident_year, .data$development_lag) %>%\n",
    "    mutate(\n",
    "      paid_lags = make_series(incremental_paid, -timesteps, -1),\n",
    "      case_lags = make_series(case_reserves, -timesteps, -1),\n",
    "      paid_target = make_series(incremental_paid, 0, timesteps - 1),\n",
    "      case_target = make_series(case_reserves, 0, timesteps - 1),\n",
    "    ) %>%\n",
    "    ungroup()\n",
    "}\n",
    "\n",
    "prep_keras_data <- function(data, company_index_recipe) {\n",
    "  lags <- data %>%\n",
    "    select(.data$paid_lags, .data$case_lags) %>%\n",
    "    purrr::transpose() %>%\n",
    "    purrr::map(~ array(unlist(.x), dim = c(1, 9, 2))) %>%\n",
    "    abind::abind(along = 1) %>%\n",
    "    unname()\n",
    "  \n",
    "  target_paid <- data %>%\n",
    "    pull(.data$paid_target) %>%\n",
    "    flatten_dbl() %>%\n",
    "    array_reshape(c(nrow(data), 9, 1))\n",
    "  \n",
    "  target_case <- data %>%\n",
    "    pull(.data$case_target) %>%\n",
    "    flatten_dbl() %>%\n",
    "    array_reshape(c(nrow(data), 9, 1))\n",
    "  \n",
    "  company_input <- bake(company_index_recipe, data) %>% as.matrix()\n",
    "  \n",
    "  list(\n",
    "    x = list(\n",
    "      ay_seq_input = lags, company_input = company_input\n",
    "    ),\n",
    "    y = list(\n",
    "      paid_output = target_paid,\n",
    "      case_reserves_output = target_case\n",
    "    )\n",
    "  )\n",
    "}\n",
    "\n",
    "masked_mse <- function(mask_value) {\n",
    "  function(y_true, y_pred) {\n",
    "    keep_value <- k_cast(k_not_equal(y_true, mask_value), k_floatx())\n",
    "    sum_squared_error <- k_sum(\n",
    "      k_square(keep_value * (y_true - y_pred)),\n",
    "      axis = 2\n",
    "    )\n",
    "    sum_squared_error / k_sum(keep_value, axis = 2)\n",
    "  }\n",
    "}\n",
    "\n",
    "transform_preds <- function(preds) {\n",
    "  rows <- 1:dim(preds[[1]])[[1]]\n",
    "  list(\n",
    "    # predicted_cumulative_loss = map(rows, ~ preds[[1]][, , 2][.x, ]),\n",
    "    predicted_loss = map(rows, ~ preds[[1]][, , 1][.x, ]),\n",
    "    predicted_os = map(rows, ~ preds[[2]][, , 1][.x, ])\n",
    "  ) %>%\n",
    "    as_tibble()\n",
    "}\n",
    "\n",
    "extract_keras_data <- function(data, lob) {\n",
    "  data %>%\n",
    "    filter(lob == !!lob) %>%\n",
    "    pull(.data$keras_data) %>%\n",
    "    flatten()\n",
    "}\n",
    "\n",
    "extract_data <- function(data, lob) {\n",
    "  data %>%\n",
    "    filter(lob == !!lob) %>%\n",
    "    unnest(.data$data)\n",
    "}\n",
    "\n",
    "compute_predictions <- function(model, test_data, lob) {\n",
    "  predictions <- model %>%\n",
    "    predict(extract_keras_data(test_data, lob)$x) %>%\n",
    "    transform_preds()\n",
    "  \n",
    "  test_data %>%\n",
    "    unnest(data) %>%\n",
    "    select(group_code, accident_year, development_lag) %>%\n",
    "    bind_cols(predictions) %>%\n",
    "    unnest(predicted_loss, predicted_os) %>%\n",
    "    group_by(group_code, accident_year) %>%\n",
    "    mutate(development_lag = development_lag + row_number() - 1) %>%\n",
    "    filter(development_lag <= 10) %>%\n",
    "    right_join(\n",
    "      data_with_features %>%\n",
    "        filter(lob == !!lob),\n",
    "      by = c(\"group_code\", \"accident_year\", \"development_lag\")\n",
    "    ) %>%\n",
    "    arrange(group_code, accident_year, development_lag) %>%\n",
    "    mutate(\n",
    "      predicted_os = if_else(\n",
    "        is.na(predicted_os),\n",
    "        case_reserves, predicted_os\n",
    "      ),\n",
    "      predicted_loss = if_else(\n",
    "        is.na(predicted_loss),\n",
    "        incremental_paid, predicted_loss\n",
    "      )\n",
    "    ) %>%\n",
    "    mutate(\n",
    "      predicted_cumulative_loss = cumsum(predicted_loss) * earned_premium_net,\n",
    "      predicted_os = predicted_os * earned_premium_net,\n",
    "      case_reserves_actual = case_reserves_actual * earned_premium_net\n",
    "    ) %>%\n",
    "    ungroup() %>%\n",
    "    gather(\n",
    "      \"type\", \"value\", predicted_cumulative_loss, predicted_os,\n",
    "      cumulative_paid_loss, case_reserves_actual,\n",
    "      na.rm = TRUE\n",
    "    ) %>%\n",
    "    mutate(\n",
    "      obs_type = case_when(\n",
    "        grepl(\"predicted\", type) ~ \"prediction\",\n",
    "        calendar_year <= 1997 ~ \"observed\",\n",
    "        calendar_year > 1997 ~ \"holdout\",\n",
    "        TRUE ~ \"observed\"\n",
    "      )\n",
    "    )\n",
    "}"
   ]
  },
  {
   "cell_type": "code",
   "execution_count": 6,
   "id": "e2d1dc77",
   "metadata": {
    "execution": {
     "iopub.execute_input": "2022-11-29T18:39:35.453041Z",
     "iopub.status.busy": "2022-11-29T18:39:35.451950Z",
     "iopub.status.idle": "2022-11-29T18:39:35.463833Z",
     "shell.execute_reply": "2022-11-29T18:39:35.462337Z"
    },
    "papermill": {
     "duration": 0.020302,
     "end_time": "2022-11-29T18:39:35.465968",
     "exception": false,
     "start_time": "2022-11-29T18:39:35.445666",
     "status": "completed"
    },
    "tags": []
   },
   "outputs": [],
   "source": [
    "dt_model <- function() {\n",
    "  ay_seq_input <- layer_input(shape = list(9, 2), name = \"ay_seq_input\")\n",
    "  company_code_input <- layer_input(shape = 1, name = \"company_input\")\n",
    "  company_code_embedding <- company_code_input %>%\n",
    "    layer_embedding(200, 49, name = \"company_code_embedding\") %>%\n",
    "    layer_flatten()%>%\n",
    "    layer_repeat_vector(9)\n",
    "  \n",
    "  encoded <- ay_seq_input %>%\n",
    "    layer_masking(-99) %>%\n",
    "    layer_gru(units = 128, dropout = 0.2, recurrent_dropout = 0.04108997)\n",
    "  \n",
    "  ay_decoded <- encoded %>%\n",
    "    layer_repeat_vector(9) %>%\n",
    "    layer_gru(128, return_sequences = TRUE, dropout = 0.2, recurrent_dropout = 0.09526625)\n",
    "  \n",
    "  decoded=layer_concatenate(list(ay_decoded, company_code_embedding))\n",
    "    \n",
    "  case_reserves_output <- decoded %>%\n",
    "    time_distributed(layer_dense(units = 64, activation = \"relu\")) %>%\n",
    "    time_distributed(layer_dropout(rate = 0.2290747)) %>%\n",
    "    time_distributed(layer_dense(units = 1, activation = \"relu\"), name = \"case_reserves_output\")\n",
    "  \n",
    "  paid_output <- decoded %>%\n",
    "    time_distributed(layer_dense(units = 64, activation = \"relu\")) %>%\n",
    "    time_distributed(layer_dropout(rate = 0.4862567)) %>%\n",
    "    time_distributed(layer_dense(units = 1, activation = \"relu\"), name = \"paid_output\")\n",
    "  \n",
    "  model <- keras_model(\n",
    "    inputs = c(ay_seq_input, company_code_input),\n",
    "    outputs = c(paid_output, case_reserves_output)\n",
    "  )\n",
    "  \n",
    "  model\n",
    "}"
   ]
  },
  {
   "cell_type": "code",
   "execution_count": 7,
   "id": "ede34fe3",
   "metadata": {
    "execution": {
     "iopub.execute_input": "2022-11-29T18:39:35.495161Z",
     "iopub.status.busy": "2022-11-29T18:39:35.477432Z",
     "iopub.status.idle": "2022-11-29T18:39:42.564996Z",
     "shell.execute_reply": "2022-11-29T18:39:42.563502Z"
    },
    "papermill": {
     "duration": 7.09694,
     "end_time": "2022-11-29T18:39:42.567830",
     "exception": false,
     "start_time": "2022-11-29T18:39:35.470890",
     "status": "completed"
    },
    "tags": []
   },
   "outputs": [
    {
     "name": "stderr",
     "output_type": "stream",
     "text": [
      "Warning message:\n",
      "“\u001b[1m\u001b[22mUse of .data in tidyselect expressions was deprecated in tidyselect 1.2.0.\n",
      "\u001b[36mℹ\u001b[39m Please use `\"paid_lags\"` instead of `.data$paid_lags`”\n",
      "Warning message:\n",
      "“\u001b[1m\u001b[22mUse of .data in tidyselect expressions was deprecated in tidyselect 1.2.0.\n",
      "\u001b[36mℹ\u001b[39m Please use `\"case_lags\"` instead of `.data$case_lags`”\n"
     ]
    }
   ],
   "source": [
    "data(schedule_p)\n",
    "\n",
    "data_with_features <- schedule_p %>%\n",
    "  right_join(dt_group_codes, by = c(\"lob\", \"group_code\")) %>%\n",
    "  mutate(case_reserves = incurred_loss - cumulative_paid_loss) %>%\n",
    "  group_by(lob, group_code, accident_year) %>%\n",
    "  arrange(lob, group_code, accident_year, development_lag) %>%\n",
    "  mutate(\n",
    "    incremental_paid_actual = incremental_paid_loss,\n",
    "    incremental_paid = ifelse(\n",
    "      calendar_year <= 1997,\n",
    "      incremental_paid_actual, NA_real_\n",
    "    ),\n",
    "    cumulative_paid_actual = cumulative_paid_loss,\n",
    "    cumulative_paid = ifelse(\n",
    "      calendar_year <= 1997,\n",
    "      cumulative_paid_actual, NA_real_\n",
    "    ),\n",
    "    case_reserves_actual = case_reserves,\n",
    "    case_reserves = ifelse(\n",
    "      calendar_year <= 1997,\n",
    "      case_reserves_actual,\n",
    "      NA_real_\n",
    "    )\n",
    "  ) %>%\n",
    "  ungroup() %>%\n",
    "  mutate(\n",
    "    bucket = case_when(\n",
    "      calendar_year <= 1995 & development_lag > 1 ~ \"train\",\n",
    "      calendar_year > 1995 & calendar_year <= 1997 &\n",
    "        development_lag > 1 ~ \"validation\",\n",
    "      calendar_year > 1997 ~ \"test\"\n",
    "    )\n",
    "  ) %>%\n",
    "  mutate(\n",
    "    incremental_paid = incremental_paid / earned_premium_net,\n",
    "    incremental_paid_actual = incremental_paid_actual / earned_premium_net,\n",
    "    cumulative_paid = cumulative_paid / earned_premium_net,\n",
    "    cumulative_paid_actual = cumulative_paid_actual / earned_premium_net,\n",
    "    case_reserves = case_reserves / earned_premium_net,\n",
    "    case_reserves_actual = case_reserves_actual / earned_premium_net\n",
    "  )\n",
    "\n",
    "# Recipe for indexing company code\n",
    "company_index_recipe <- recipe(~ group_code, data = data_with_features) %>%\n",
    "  step_integer(group_code, zero_based = TRUE) %>%\n",
    "  prep()\n",
    "\n",
    "data_keras <- bind_rows(\n",
    "  validation_data = data_with_features %>%\n",
    "    filter(bucket %in% c(\"train\", \"validation\") | development_lag == 1) %>%\n",
    "    mutate_series() %>%\n",
    "    filter(bucket == \"validation\") %>%\n",
    "    group_by(lob) %>%\n",
    "    nest() %>%\n",
    "    mutate(keras_data = map(data, ~ prep_keras_data(.x, company_index_recipe))),\n",
    "  full_training_data = data_with_features %>%\n",
    "    filter(bucket %in% c(\"train\", \"validation\") | development_lag == 1) %>%\n",
    "    mutate_series() %>%\n",
    "    filter(bucket %in% c(\"train\", \"validation\")) %>%\n",
    "    group_by(lob) %>%\n",
    "    nest() %>%\n",
    "    mutate(keras_data = map(data, ~ prep_keras_data(.x, company_index_recipe))),\n",
    "  test_data = data_with_features %>%\n",
    "    filter(calendar_year <= 1998) %>%\n",
    "    mutate_series() %>%\n",
    "    filter(bucket == \"test\", calendar_year == 1998) %>%\n",
    "    group_by(lob) %>%\n",
    "    nest() %>%\n",
    "    mutate(keras_data = map(data, ~ prep_keras_data(.x, company_index_recipe))),\n",
    "  .id = \"data_type\"\n",
    ")"
   ]
  },
  {
   "cell_type": "code",
   "execution_count": 8,
   "id": "bbcfd330",
   "metadata": {
    "execution": {
     "iopub.execute_input": "2022-11-29T18:39:42.581185Z",
     "iopub.status.busy": "2022-11-29T18:39:42.580031Z",
     "iopub.status.idle": "2022-11-29T18:46:25.276673Z",
     "shell.execute_reply": "2022-11-29T18:46:25.275096Z"
    },
    "papermill": {
     "duration": 402.70869,
     "end_time": "2022-11-29T18:46:25.281941",
     "exception": false,
     "start_time": "2022-11-29T18:39:42.573251",
     "status": "completed"
    },
    "tags": []
   },
   "outputs": [
    {
     "name": "stderr",
     "output_type": "stream",
     "text": [
      "Loaded Tensorflow version 2.6.5\n",
      "\n"
     ]
    },
    {
     "name": "stdout",
     "output_type": "stream",
     "text": [
      "Training LOB commercial_auto run 1: training for 41 epochs took 11 seconds at 2022-11-29 18:40:00 \n"
     ]
    },
    {
     "name": "stderr",
     "output_type": "stream",
     "text": [
      "\u001b[1m\u001b[22mAdding missing grouping variables: `lob`\n",
      "Warning message:\n",
      "“unnest() has a new interface. See ?unnest for details.\n",
      "Try `df %>% unnest(c(predicted_loss, predicted_os))`, with `mutate()` if needed”\n"
     ]
    },
    {
     "name": "stdout",
     "output_type": "stream",
     "text": [
      "Training LOB commercial_auto run 2: training for 59 epochs took 8 seconds at 2022-11-29 18:40:14 \n"
     ]
    },
    {
     "name": "stderr",
     "output_type": "stream",
     "text": [
      "\u001b[1m\u001b[22mAdding missing grouping variables: `lob`\n",
      "Warning message:\n",
      "“unnest() has a new interface. See ?unnest for details.\n",
      "Try `df %>% unnest(c(predicted_loss, predicted_os))`, with `mutate()` if needed”\n"
     ]
    },
    {
     "name": "stdout",
     "output_type": "stream",
     "text": [
      "Training LOB commercial_auto run 3: training for 69 epochs took 9 seconds at 2022-11-29 18:40:24 \n"
     ]
    },
    {
     "name": "stderr",
     "output_type": "stream",
     "text": [
      "\u001b[1m\u001b[22mAdding missing grouping variables: `lob`\n",
      "Warning message:\n",
      "“unnest() has a new interface. See ?unnest for details.\n",
      "Try `df %>% unnest(c(predicted_loss, predicted_os))`, with `mutate()` if needed”\n"
     ]
    },
    {
     "name": "stdout",
     "output_type": "stream",
     "text": [
      "Training LOB commercial_auto run 4: training for 41 epochs took 7 seconds at 2022-11-29 18:40:37 \n"
     ]
    },
    {
     "name": "stderr",
     "output_type": "stream",
     "text": [
      "\u001b[1m\u001b[22mAdding missing grouping variables: `lob`\n",
      "Warning message:\n",
      "“unnest() has a new interface. See ?unnest for details.\n",
      "Try `df %>% unnest(c(predicted_loss, predicted_os))`, with `mutate()` if needed”\n"
     ]
    },
    {
     "name": "stdout",
     "output_type": "stream",
     "text": [
      "Training LOB commercial_auto run 5: training for 66 epochs took 8 seconds at 2022-11-29 18:40:47 \n"
     ]
    },
    {
     "name": "stderr",
     "output_type": "stream",
     "text": [
      "\u001b[1m\u001b[22mAdding missing grouping variables: `lob`\n",
      "Warning message:\n",
      "“unnest() has a new interface. See ?unnest for details.\n",
      "Try `df %>% unnest(c(predicted_loss, predicted_os))`, with `mutate()` if needed”\n"
     ]
    },
    {
     "name": "stdout",
     "output_type": "stream",
     "text": [
      "Training LOB commercial_auto run 6: training for 64 epochs took 8 seconds at 2022-11-29 18:41:01 \n"
     ]
    },
    {
     "name": "stderr",
     "output_type": "stream",
     "text": [
      "\u001b[1m\u001b[22mAdding missing grouping variables: `lob`\n",
      "Warning message:\n",
      "“unnest() has a new interface. See ?unnest for details.\n",
      "Try `df %>% unnest(c(predicted_loss, predicted_os))`, with `mutate()` if needed”\n"
     ]
    },
    {
     "name": "stdout",
     "output_type": "stream",
     "text": [
      "Training LOB commercial_auto run 7: training for 41 epochs took 7 seconds at 2022-11-29 18:41:10 \n"
     ]
    },
    {
     "name": "stderr",
     "output_type": "stream",
     "text": [
      "\u001b[1m\u001b[22mAdding missing grouping variables: `lob`\n",
      "Warning message:\n",
      "“unnest() has a new interface. See ?unnest for details.\n",
      "Try `df %>% unnest(c(predicted_loss, predicted_os))`, with `mutate()` if needed”\n"
     ]
    },
    {
     "name": "stdout",
     "output_type": "stream",
     "text": [
      "Training LOB commercial_auto run 8: training for 48 epochs took 7 seconds at 2022-11-29 18:41:18 \n"
     ]
    },
    {
     "name": "stderr",
     "output_type": "stream",
     "text": [
      "\u001b[1m\u001b[22mAdding missing grouping variables: `lob`\n",
      "Warning message:\n",
      "“unnest() has a new interface. See ?unnest for details.\n",
      "Try `df %>% unnest(c(predicted_loss, predicted_os))`, with `mutate()` if needed”\n"
     ]
    },
    {
     "name": "stdout",
     "output_type": "stream",
     "text": [
      "Training LOB commercial_auto run 9: training for 41 epochs took 7 seconds at 2022-11-29 18:41:28 \n"
     ]
    },
    {
     "name": "stderr",
     "output_type": "stream",
     "text": [
      "\u001b[1m\u001b[22mAdding missing grouping variables: `lob`\n",
      "Warning message:\n",
      "“unnest() has a new interface. See ?unnest for details.\n",
      "Try `df %>% unnest(c(predicted_loss, predicted_os))`, with `mutate()` if needed”\n"
     ]
    },
    {
     "name": "stdout",
     "output_type": "stream",
     "text": [
      "Training LOB commercial_auto run 10: training for 42 epochs took 7 seconds at 2022-11-29 18:41:36 \n"
     ]
    },
    {
     "name": "stderr",
     "output_type": "stream",
     "text": [
      "\u001b[1m\u001b[22mAdding missing grouping variables: `lob`\n",
      "Warning message:\n",
      "“unnest() has a new interface. See ?unnest for details.\n",
      "Try `df %>% unnest(c(predicted_loss, predicted_os))`, with `mutate()` if needed”\n"
     ]
    },
    {
     "name": "stdout",
     "output_type": "stream",
     "text": [
      "Training LOB other_liability run 1: training for 48 epochs took 7 seconds at 2022-11-29 18:41:45 \n"
     ]
    },
    {
     "name": "stderr",
     "output_type": "stream",
     "text": [
      "\u001b[1m\u001b[22mAdding missing grouping variables: `lob`\n",
      "Warning message:\n",
      "“unnest() has a new interface. See ?unnest for details.\n",
      "Try `df %>% unnest(c(predicted_loss, predicted_os))`, with `mutate()` if needed”\n"
     ]
    },
    {
     "name": "stdout",
     "output_type": "stream",
     "text": [
      "Training LOB other_liability run 2: training for 60 epochs took 8 seconds at 2022-11-29 18:41:55 \n"
     ]
    },
    {
     "name": "stderr",
     "output_type": "stream",
     "text": [
      "\u001b[1m\u001b[22mAdding missing grouping variables: `lob`\n",
      "Warning message:\n",
      "“unnest() has a new interface. See ?unnest for details.\n",
      "Try `df %>% unnest(c(predicted_loss, predicted_os))`, with `mutate()` if needed”\n"
     ]
    },
    {
     "name": "stdout",
     "output_type": "stream",
     "text": [
      "Training LOB other_liability run 3: training for 52 epochs took 8 seconds at 2022-11-29 18:42:05 \n"
     ]
    },
    {
     "name": "stderr",
     "output_type": "stream",
     "text": [
      "\u001b[1m\u001b[22mAdding missing grouping variables: `lob`\n",
      "Warning message:\n",
      "“unnest() has a new interface. See ?unnest for details.\n",
      "Try `df %>% unnest(c(predicted_loss, predicted_os))`, with `mutate()` if needed”\n"
     ]
    },
    {
     "name": "stdout",
     "output_type": "stream",
     "text": [
      "Training LOB other_liability run 4: training for 65 epochs took 11 seconds at 2022-11-29 18:42:17 \n"
     ]
    },
    {
     "name": "stderr",
     "output_type": "stream",
     "text": [
      "\u001b[1m\u001b[22mAdding missing grouping variables: `lob`\n",
      "Warning message:\n",
      "“unnest() has a new interface. See ?unnest for details.\n",
      "Try `df %>% unnest(c(predicted_loss, predicted_os))`, with `mutate()` if needed”\n"
     ]
    },
    {
     "name": "stdout",
     "output_type": "stream",
     "text": [
      "Training LOB other_liability run 5: training for 47 epochs took 7 seconds at 2022-11-29 18:42:25 \n"
     ]
    },
    {
     "name": "stderr",
     "output_type": "stream",
     "text": [
      "\u001b[1m\u001b[22mAdding missing grouping variables: `lob`\n",
      "Warning message:\n",
      "“unnest() has a new interface. See ?unnest for details.\n",
      "Try `df %>% unnest(c(predicted_loss, predicted_os))`, with `mutate()` if needed”\n"
     ]
    },
    {
     "name": "stdout",
     "output_type": "stream",
     "text": [
      "Training LOB other_liability run 6: training for 48 epochs took 7 seconds at 2022-11-29 18:42:35 \n"
     ]
    },
    {
     "name": "stderr",
     "output_type": "stream",
     "text": [
      "\u001b[1m\u001b[22mAdding missing grouping variables: `lob`\n",
      "Warning message:\n",
      "“unnest() has a new interface. See ?unnest for details.\n",
      "Try `df %>% unnest(c(predicted_loss, predicted_os))`, with `mutate()` if needed”\n"
     ]
    },
    {
     "name": "stdout",
     "output_type": "stream",
     "text": [
      "Training LOB other_liability run 7: training for 53 epochs took 8 seconds at 2022-11-29 18:42:44 \n"
     ]
    },
    {
     "name": "stderr",
     "output_type": "stream",
     "text": [
      "\u001b[1m\u001b[22mAdding missing grouping variables: `lob`\n",
      "Warning message:\n",
      "“unnest() has a new interface. See ?unnest for details.\n",
      "Try `df %>% unnest(c(predicted_loss, predicted_os))`, with `mutate()` if needed”\n"
     ]
    },
    {
     "name": "stdout",
     "output_type": "stream",
     "text": [
      "Training LOB other_liability run 8: training for 61 epochs took 8 seconds at 2022-11-29 18:42:53 \n"
     ]
    },
    {
     "name": "stderr",
     "output_type": "stream",
     "text": [
      "\u001b[1m\u001b[22mAdding missing grouping variables: `lob`\n",
      "Warning message:\n",
      "“unnest() has a new interface. See ?unnest for details.\n",
      "Try `df %>% unnest(c(predicted_loss, predicted_os))`, with `mutate()` if needed”\n"
     ]
    },
    {
     "name": "stdout",
     "output_type": "stream",
     "text": [
      "Training LOB other_liability run 9: training for 58 epochs took 7 seconds at 2022-11-29 18:43:02 \n"
     ]
    },
    {
     "name": "stderr",
     "output_type": "stream",
     "text": [
      "\u001b[1m\u001b[22mAdding missing grouping variables: `lob`\n",
      "Warning message:\n",
      "“unnest() has a new interface. See ?unnest for details.\n",
      "Try `df %>% unnest(c(predicted_loss, predicted_os))`, with `mutate()` if needed”\n"
     ]
    },
    {
     "name": "stdout",
     "output_type": "stream",
     "text": [
      "Training LOB other_liability run 10: training for 43 epochs took 7 seconds at 2022-11-29 18:43:11 \n"
     ]
    },
    {
     "name": "stderr",
     "output_type": "stream",
     "text": [
      "\u001b[1m\u001b[22mAdding missing grouping variables: `lob`\n",
      "Warning message:\n",
      "“unnest() has a new interface. See ?unnest for details.\n",
      "Try `df %>% unnest(c(predicted_loss, predicted_os))`, with `mutate()` if needed”\n"
     ]
    },
    {
     "name": "stdout",
     "output_type": "stream",
     "text": [
      "Training LOB private_passenger_auto run 1: training for 51 epochs took 8 seconds at 2022-11-29 18:43:21 \n"
     ]
    },
    {
     "name": "stderr",
     "output_type": "stream",
     "text": [
      "\u001b[1m\u001b[22mAdding missing grouping variables: `lob`\n",
      "Warning message:\n",
      "“unnest() has a new interface. See ?unnest for details.\n",
      "Try `df %>% unnest(c(predicted_loss, predicted_os))`, with `mutate()` if needed”\n"
     ]
    },
    {
     "name": "stdout",
     "output_type": "stream",
     "text": [
      "Training LOB private_passenger_auto run 2: training for 56 epochs took 8 seconds at 2022-11-29 18:43:31 \n"
     ]
    },
    {
     "name": "stderr",
     "output_type": "stream",
     "text": [
      "\u001b[1m\u001b[22mAdding missing grouping variables: `lob`\n",
      "Warning message:\n",
      "“unnest() has a new interface. See ?unnest for details.\n",
      "Try `df %>% unnest(c(predicted_loss, predicted_os))`, with `mutate()` if needed”\n"
     ]
    },
    {
     "name": "stdout",
     "output_type": "stream",
     "text": [
      "Training LOB private_passenger_auto run 3: training for 43 epochs took 7 seconds at 2022-11-29 18:43:40 \n"
     ]
    },
    {
     "name": "stderr",
     "output_type": "stream",
     "text": [
      "\u001b[1m\u001b[22mAdding missing grouping variables: `lob`\n",
      "Warning message:\n",
      "“unnest() has a new interface. See ?unnest for details.\n",
      "Try `df %>% unnest(c(predicted_loss, predicted_os))`, with `mutate()` if needed”\n"
     ]
    },
    {
     "name": "stdout",
     "output_type": "stream",
     "text": [
      "Training LOB private_passenger_auto run 4: training for 46 epochs took 7 seconds at 2022-11-29 18:43:49 \n"
     ]
    },
    {
     "name": "stderr",
     "output_type": "stream",
     "text": [
      "\u001b[1m\u001b[22mAdding missing grouping variables: `lob`\n",
      "Warning message:\n",
      "“unnest() has a new interface. See ?unnest for details.\n",
      "Try `df %>% unnest(c(predicted_loss, predicted_os))`, with `mutate()` if needed”\n"
     ]
    },
    {
     "name": "stdout",
     "output_type": "stream",
     "text": [
      "Training LOB private_passenger_auto run 5: training for 37 epochs took 8 seconds at 2022-11-29 18:44:00 \n"
     ]
    },
    {
     "name": "stderr",
     "output_type": "stream",
     "text": [
      "\u001b[1m\u001b[22mAdding missing grouping variables: `lob`\n",
      "Warning message:\n",
      "“unnest() has a new interface. See ?unnest for details.\n",
      "Try `df %>% unnest(c(predicted_loss, predicted_os))`, with `mutate()` if needed”\n"
     ]
    },
    {
     "name": "stdout",
     "output_type": "stream",
     "text": [
      "Training LOB private_passenger_auto run 6: training for 52 epochs took 7 seconds at 2022-11-29 18:44:09 \n"
     ]
    },
    {
     "name": "stderr",
     "output_type": "stream",
     "text": [
      "\u001b[1m\u001b[22mAdding missing grouping variables: `lob`\n",
      "Warning message:\n",
      "“unnest() has a new interface. See ?unnest for details.\n",
      "Try `df %>% unnest(c(predicted_loss, predicted_os))`, with `mutate()` if needed”\n"
     ]
    },
    {
     "name": "stdout",
     "output_type": "stream",
     "text": [
      "Training LOB private_passenger_auto run 7: training for 43 epochs took 8 seconds at 2022-11-29 18:44:19 \n"
     ]
    },
    {
     "name": "stderr",
     "output_type": "stream",
     "text": [
      "\u001b[1m\u001b[22mAdding missing grouping variables: `lob`\n",
      "Warning message:\n",
      "“unnest() has a new interface. See ?unnest for details.\n",
      "Try `df %>% unnest(c(predicted_loss, predicted_os))`, with `mutate()` if needed”\n"
     ]
    },
    {
     "name": "stdout",
     "output_type": "stream",
     "text": [
      "Training LOB private_passenger_auto run 8: training for 45 epochs took 7 seconds at 2022-11-29 18:44:27 \n"
     ]
    },
    {
     "name": "stderr",
     "output_type": "stream",
     "text": [
      "\u001b[1m\u001b[22mAdding missing grouping variables: `lob`\n",
      "Warning message:\n",
      "“unnest() has a new interface. See ?unnest for details.\n",
      "Try `df %>% unnest(c(predicted_loss, predicted_os))`, with `mutate()` if needed”\n"
     ]
    },
    {
     "name": "stdout",
     "output_type": "stream",
     "text": [
      "Training LOB private_passenger_auto run 9: training for 46 epochs took 7 seconds at 2022-11-29 18:44:35 \n"
     ]
    },
    {
     "name": "stderr",
     "output_type": "stream",
     "text": [
      "\u001b[1m\u001b[22mAdding missing grouping variables: `lob`\n",
      "Warning message:\n",
      "“unnest() has a new interface. See ?unnest for details.\n",
      "Try `df %>% unnest(c(predicted_loss, predicted_os))`, with `mutate()` if needed”\n"
     ]
    },
    {
     "name": "stdout",
     "output_type": "stream",
     "text": [
      "Training LOB private_passenger_auto run 10: training for 65 epochs took 9 seconds at 2022-11-29 18:44:46 \n"
     ]
    },
    {
     "name": "stderr",
     "output_type": "stream",
     "text": [
      "\u001b[1m\u001b[22mAdding missing grouping variables: `lob`\n",
      "Warning message:\n",
      "“unnest() has a new interface. See ?unnest for details.\n",
      "Try `df %>% unnest(c(predicted_loss, predicted_os))`, with `mutate()` if needed”\n"
     ]
    },
    {
     "name": "stdout",
     "output_type": "stream",
     "text": [
      "Training LOB workers_compensation run 1: training for 67 epochs took 8 seconds at 2022-11-29 18:44:56 \n"
     ]
    },
    {
     "name": "stderr",
     "output_type": "stream",
     "text": [
      "\u001b[1m\u001b[22mAdding missing grouping variables: `lob`\n",
      "Warning message:\n",
      "“unnest() has a new interface. See ?unnest for details.\n",
      "Try `df %>% unnest(c(predicted_loss, predicted_os))`, with `mutate()` if needed”\n"
     ]
    },
    {
     "name": "stdout",
     "output_type": "stream",
     "text": [
      "Training LOB workers_compensation run 2: training for 47 epochs took 7 seconds at 2022-11-29 18:45:05 \n"
     ]
    },
    {
     "name": "stderr",
     "output_type": "stream",
     "text": [
      "\u001b[1m\u001b[22mAdding missing grouping variables: `lob`\n",
      "Warning message:\n",
      "“unnest() has a new interface. See ?unnest for details.\n",
      "Try `df %>% unnest(c(predicted_loss, predicted_os))`, with `mutate()` if needed”\n"
     ]
    },
    {
     "name": "stdout",
     "output_type": "stream",
     "text": [
      "Training LOB workers_compensation run 3: training for 47 epochs took 7 seconds at 2022-11-29 18:45:13 \n"
     ]
    },
    {
     "name": "stderr",
     "output_type": "stream",
     "text": [
      "\u001b[1m\u001b[22mAdding missing grouping variables: `lob`\n",
      "Warning message:\n",
      "“unnest() has a new interface. See ?unnest for details.\n",
      "Try `df %>% unnest(c(predicted_loss, predicted_os))`, with `mutate()` if needed”\n"
     ]
    },
    {
     "name": "stdout",
     "output_type": "stream",
     "text": [
      "Training LOB workers_compensation run 4: training for 58 epochs took 9 seconds at 2022-11-29 18:45:23 \n"
     ]
    },
    {
     "name": "stderr",
     "output_type": "stream",
     "text": [
      "\u001b[1m\u001b[22mAdding missing grouping variables: `lob`\n",
      "Warning message:\n",
      "“unnest() has a new interface. See ?unnest for details.\n",
      "Try `df %>% unnest(c(predicted_loss, predicted_os))`, with `mutate()` if needed”\n"
     ]
    },
    {
     "name": "stdout",
     "output_type": "stream",
     "text": [
      "Training LOB workers_compensation run 5: training for 44 epochs took 7 seconds at 2022-11-29 18:45:31 \n"
     ]
    },
    {
     "name": "stderr",
     "output_type": "stream",
     "text": [
      "\u001b[1m\u001b[22mAdding missing grouping variables: `lob`\n",
      "Warning message:\n",
      "“unnest() has a new interface. See ?unnest for details.\n",
      "Try `df %>% unnest(c(predicted_loss, predicted_os))`, with `mutate()` if needed”\n"
     ]
    },
    {
     "name": "stdout",
     "output_type": "stream",
     "text": [
      "Training LOB workers_compensation run 6: training for 70 epochs took 9 seconds at 2022-11-29 18:45:42 \n"
     ]
    },
    {
     "name": "stderr",
     "output_type": "stream",
     "text": [
      "\u001b[1m\u001b[22mAdding missing grouping variables: `lob`\n",
      "Warning message:\n",
      "“unnest() has a new interface. See ?unnest for details.\n",
      "Try `df %>% unnest(c(predicted_loss, predicted_os))`, with `mutate()` if needed”\n"
     ]
    },
    {
     "name": "stdout",
     "output_type": "stream",
     "text": [
      "Training LOB workers_compensation run 7: training for 42 epochs took 7 seconds at 2022-11-29 18:45:56 \n"
     ]
    },
    {
     "name": "stderr",
     "output_type": "stream",
     "text": [
      "\u001b[1m\u001b[22mAdding missing grouping variables: `lob`\n",
      "Warning message:\n",
      "“unnest() has a new interface. See ?unnest for details.\n",
      "Try `df %>% unnest(c(predicted_loss, predicted_os))`, with `mutate()` if needed”\n"
     ]
    },
    {
     "name": "stdout",
     "output_type": "stream",
     "text": [
      "Training LOB workers_compensation run 8: training for 47 epochs took 7 seconds at 2022-11-29 18:46:04 \n"
     ]
    },
    {
     "name": "stderr",
     "output_type": "stream",
     "text": [
      "\u001b[1m\u001b[22mAdding missing grouping variables: `lob`\n",
      "Warning message:\n",
      "“unnest() has a new interface. See ?unnest for details.\n",
      "Try `df %>% unnest(c(predicted_loss, predicted_os))`, with `mutate()` if needed”\n"
     ]
    },
    {
     "name": "stdout",
     "output_type": "stream",
     "text": [
      "Training LOB workers_compensation run 9: training for 76 epochs took 9 seconds at 2022-11-29 18:46:14 \n"
     ]
    },
    {
     "name": "stderr",
     "output_type": "stream",
     "text": [
      "\u001b[1m\u001b[22mAdding missing grouping variables: `lob`\n",
      "Warning message:\n",
      "“unnest() has a new interface. See ?unnest for details.\n",
      "Try `df %>% unnest(c(predicted_loss, predicted_os))`, with `mutate()` if needed”\n"
     ]
    },
    {
     "name": "stdout",
     "output_type": "stream",
     "text": [
      "Training LOB workers_compensation run 10: training for 44 epochs took 7 seconds at 2022-11-29 18:46:23 \n"
     ]
    },
    {
     "name": "stderr",
     "output_type": "stream",
     "text": [
      "\u001b[1m\u001b[22mAdding missing grouping variables: `lob`\n",
      "Warning message:\n",
      "“unnest() has a new interface. See ?unnest for details.\n",
      "Try `df %>% unnest(c(predicted_loss, predicted_os))`, with `mutate()` if needed”\n"
     ]
    }
   ],
   "source": [
    "lobs <- c(\"commercial_auto\",\"other_liability\", \"private_passenger_auto\", \"workers_compensation\")\n",
    "\n",
    "results <- map_df(lobs, function(lob) {\n",
    "  data_lob <- data_keras %>%\n",
    "    filter(lob == !!lob)\n",
    "  full_training_data_keras <- data_lob %>%\n",
    "    filter(data_type == \"full_training_data\") %>%\n",
    "    pull(keras_data) %>%\n",
    "    flatten()\n",
    "  validation_data_keras <- data_lob %>%\n",
    "    filter(data_type == \"validation_data\") %>%\n",
    "    pull(keras_data) %>%\n",
    "    flatten()\n",
    "  test_data <- data_lob %>%\n",
    "    filter(data_type == \"test_data\")\n",
    "  \n",
    "  map_df(1:10, function(run_id) {\n",
    "    if (run_id %% 10 == 1) k_clear_session()\n",
    "    cat(sprintf(\"Training LOB %s run %s: \", lob, run_id))\n",
    "    start_time <- Sys.time()\n",
    "    model <- dt_model()\n",
    "    model %>%\n",
    "      compile(\n",
    "        optimizer = optimizer_adam(learning_rate = 0.003549904, amsgrad = TRUE),\n",
    "        loss = list(masked_mse(-99), masked_mse(-99)),\n",
    "        loss_weights = c(0.5, 0.5)\n",
    "      )\n",
    "    \n",
    "    cb <- callback_early_stopping(min_delta = 0.001, patience = 30, mode = \"min\", restore_best_weights = TRUE)\n",
    "    \n",
    "    history <- model %>%\n",
    "      fit(\n",
    "        x = full_training_data_keras$x,\n",
    "        y = full_training_data_keras$y,\n",
    "        validation_data = unname(validation_data_keras),\n",
    "        batch_size = 2250,\n",
    "        epochs = 150,\n",
    "        callbacks = list(cb),\n",
    "        verbose = 0\n",
    "      )\n",
    "    \n",
    "    training_time <- as.integer(Sys.time() - start_time)\n",
    "    \n",
    "    cat(sprintf(\"training for %d epochs took %d seconds at %s\", cb$stopped_epoch, training_time, Sys.time()), \"\\n\")\n",
    "    \n",
    "    predictions_table <- compute_predictions(model, test_data, lob) %>%\n",
    "      mutate(lob = !!lob, run_id = !!run_id)\n",
    "    \n",
    "    tibble(\n",
    "      lob = lob,\n",
    "      run_id = run_id,\n",
    "      training_time = training_time,\n",
    "      predictions_table = list(predictions_table),\n",
    "      trained_epochs = cb$stopped_epoch\n",
    "    )\n",
    "  })\n",
    "})"
   ]
  },
  {
   "cell_type": "code",
   "execution_count": 9,
   "id": "6f8f4f23",
   "metadata": {
    "execution": {
     "iopub.execute_input": "2022-11-29T18:46:25.334678Z",
     "iopub.status.busy": "2022-11-29T18:46:25.333551Z",
     "iopub.status.idle": "2022-11-29T18:46:26.152604Z",
     "shell.execute_reply": "2022-11-29T18:46:26.151004Z"
    },
    "papermill": {
     "duration": 0.850495,
     "end_time": "2022-11-29T18:46:26.155407",
     "exception": false,
     "start_time": "2022-11-29T18:46:25.304912",
     "status": "completed"
    },
    "tags": []
   },
   "outputs": [],
   "source": [
    "predictions_table <- results  %>%\n",
    "  pull(predictions_table) %>%\n",
    "  bind_rows()"
   ]
  },
  {
   "cell_type": "code",
   "execution_count": 10,
   "id": "7eb4a1b9",
   "metadata": {
    "execution": {
     "iopub.execute_input": "2022-11-29T18:46:26.180186Z",
     "iopub.status.busy": "2022-11-29T18:46:26.178990Z",
     "iopub.status.idle": "2022-11-29T18:46:26.193207Z",
     "shell.execute_reply": "2022-11-29T18:46:26.191904Z"
    },
    "papermill": {
     "duration": 0.029023,
     "end_time": "2022-11-29T18:46:26.195395",
     "exception": false,
     "start_time": "2022-11-29T18:46:26.166372",
     "status": "completed"
    },
    "tags": []
   },
   "outputs": [],
   "source": [
    "#' Compute performance metrics\n",
    "#'\n",
    "#' @param predictions Predictions data frame.\n",
    "#' @export\n",
    "dt_compute_metrics <- function(predictions) {\n",
    "  predictions %>%\n",
    "    dplyr::filter(\n",
    "      .data$development_lag == 10,\n",
    "      .data$type %in% c(\"cumulative_paid_loss\", \"predicted_cumulative_loss\")\n",
    "    ) %>%\n",
    "    dplyr::group_by(.data$lob, .data$group_code, .data$type, .data$run_id) %>%\n",
    "    dplyr::summarize(ultimate = sum(.data$value)) %>%\n",
    "    dplyr::group_by(.data$lob, .data$group_code, .data$type) %>%\n",
    "    dplyr::summarize(ultimate = mean(.data$ultimate)) %>%\n",
    "    tidyr::spread(.data$type, .data$ultimate) %>%\n",
    "    dplyr::mutate(\n",
    "      pct_error = (.data$predicted_cumulative_loss - .data$cumulative_paid_loss) /\n",
    "        .data$cumulative_paid_loss) %>%\n",
    "    dplyr::ungroup() %>%\n",
    "    dplyr::group_by(.data$lob) %>%\n",
    "    dplyr::summarize(\n",
    "      mape = mean(abs(.data$pct_error)),\n",
    "      rmspe = sqrt(mean(.data$pct_error ^ 2))\n",
    "    ) %>%\n",
    "    dplyr::mutate(model = \"DeepTriangle\")\n",
    "}\n",
    "\n",
    "#' Tabulate performance metrics for all models\n",
    "#'\n",
    "#' @param data Model results in tidy format.\n",
    "#' @param metric Performance metric.\n",
    "#' @export\n",
    "dt_tabulate_metrics <- function(data, metric = c(\"mape\", \"rmspe\")) {\n",
    "  metric <- rlang::arg_match(metric)\n",
    "  data %>%\n",
    "    dplyr::filter(metric == !!metric) %>%\n",
    "    dplyr::select(-.data$metric) %>%\n",
    "    tidyr::spread(.data$model,.data$ value) %>%\n",
    "    dplyr::select(\n",
    "      .data$lob, .data$DeepTriangle\n",
    "    )\n",
    "}"
   ]
  },
  {
   "cell_type": "code",
   "execution_count": 11,
   "id": "b0a050ce",
   "metadata": {
    "execution": {
     "iopub.execute_input": "2022-11-29T18:46:26.219096Z",
     "iopub.status.busy": "2022-11-29T18:46:26.217956Z",
     "iopub.status.idle": "2022-11-29T18:46:26.511286Z",
     "shell.execute_reply": "2022-11-29T18:46:26.509889Z"
    },
    "papermill": {
     "duration": 0.307736,
     "end_time": "2022-11-29T18:46:26.513688",
     "exception": false,
     "start_time": "2022-11-29T18:46:26.205952",
     "status": "completed"
    },
    "tags": []
   },
   "outputs": [
    {
     "name": "stderr",
     "output_type": "stream",
     "text": [
      "\u001b[1m\u001b[22m`summarise()` has grouped output by 'lob', 'group_code', 'type'. You can\n",
      "override using the `.groups` argument.\n",
      "\u001b[1m\u001b[22m`summarise()` has grouped output by 'lob', 'group_code'. You can override using\n",
      "the `.groups` argument.\n"
     ]
    }
   ],
   "source": [
    "model_results <- dt_compute_metrics(predictions_table) %>%\n",
    "  gather(metric, value, mape, rmspe)"
   ]
  },
  {
   "cell_type": "code",
   "execution_count": 12,
   "id": "ba00ad86",
   "metadata": {
    "execution": {
     "iopub.execute_input": "2022-11-29T18:46:26.538363Z",
     "iopub.status.busy": "2022-11-29T18:46:26.537199Z",
     "iopub.status.idle": "2022-11-29T18:46:26.560122Z",
     "shell.execute_reply": "2022-11-29T18:46:26.558445Z"
    },
    "papermill": {
     "duration": 0.037449,
     "end_time": "2022-11-29T18:46:26.562329",
     "exception": false,
     "start_time": "2022-11-29T18:46:26.524880",
     "status": "completed"
    },
    "tags": []
   },
   "outputs": [
    {
     "data": {
      "text/html": [
       "<table class=\"dataframe\">\n",
       "<caption>A tibble: 8 × 4</caption>\n",
       "<thead>\n",
       "\t<tr><th scope=col>lob</th><th scope=col>model</th><th scope=col>metric</th><th scope=col>value</th></tr>\n",
       "\t<tr><th scope=col>&lt;chr&gt;</th><th scope=col>&lt;chr&gt;</th><th scope=col>&lt;chr&gt;</th><th scope=col>&lt;dbl&gt;</th></tr>\n",
       "</thead>\n",
       "<tbody>\n",
       "\t<tr><td>commercial_auto       </td><td>DeepTriangle</td><td>mape </td><td>0.04396358</td></tr>\n",
       "\t<tr><td>other_liability       </td><td>DeepTriangle</td><td>mape </td><td>0.10034020</td></tr>\n",
       "\t<tr><td>private_passenger_auto</td><td>DeepTriangle</td><td>mape </td><td>0.02309181</td></tr>\n",
       "\t<tr><td>workers_compensation  </td><td>DeepTriangle</td><td>mape </td><td>0.04077074</td></tr>\n",
       "\t<tr><td>commercial_auto       </td><td>DeepTriangle</td><td>rmspe</td><td>0.05824160</td></tr>\n",
       "\t<tr><td>other_liability       </td><td>DeepTriangle</td><td>rmspe</td><td>0.14807261</td></tr>\n",
       "\t<tr><td>private_passenger_auto</td><td>DeepTriangle</td><td>rmspe</td><td>0.03739412</td></tr>\n",
       "\t<tr><td>workers_compensation  </td><td>DeepTriangle</td><td>rmspe</td><td>0.06608241</td></tr>\n",
       "</tbody>\n",
       "</table>\n"
      ],
      "text/latex": [
       "A tibble: 8 × 4\n",
       "\\begin{tabular}{llll}\n",
       " lob & model & metric & value\\\\\n",
       " <chr> & <chr> & <chr> & <dbl>\\\\\n",
       "\\hline\n",
       "\t commercial\\_auto        & DeepTriangle & mape  & 0.04396358\\\\\n",
       "\t other\\_liability        & DeepTriangle & mape  & 0.10034020\\\\\n",
       "\t private\\_passenger\\_auto & DeepTriangle & mape  & 0.02309181\\\\\n",
       "\t workers\\_compensation   & DeepTriangle & mape  & 0.04077074\\\\\n",
       "\t commercial\\_auto        & DeepTriangle & rmspe & 0.05824160\\\\\n",
       "\t other\\_liability        & DeepTriangle & rmspe & 0.14807261\\\\\n",
       "\t private\\_passenger\\_auto & DeepTriangle & rmspe & 0.03739412\\\\\n",
       "\t workers\\_compensation   & DeepTriangle & rmspe & 0.06608241\\\\\n",
       "\\end{tabular}\n"
      ],
      "text/markdown": [
       "\n",
       "A tibble: 8 × 4\n",
       "\n",
       "| lob &lt;chr&gt; | model &lt;chr&gt; | metric &lt;chr&gt; | value &lt;dbl&gt; |\n",
       "|---|---|---|---|\n",
       "| commercial_auto        | DeepTriangle | mape  | 0.04396358 |\n",
       "| other_liability        | DeepTriangle | mape  | 0.10034020 |\n",
       "| private_passenger_auto | DeepTriangle | mape  | 0.02309181 |\n",
       "| workers_compensation   | DeepTriangle | mape  | 0.04077074 |\n",
       "| commercial_auto        | DeepTriangle | rmspe | 0.05824160 |\n",
       "| other_liability        | DeepTriangle | rmspe | 0.14807261 |\n",
       "| private_passenger_auto | DeepTriangle | rmspe | 0.03739412 |\n",
       "| workers_compensation   | DeepTriangle | rmspe | 0.06608241 |\n",
       "\n"
      ],
      "text/plain": [
       "  lob                    model        metric value     \n",
       "1 commercial_auto        DeepTriangle mape   0.04396358\n",
       "2 other_liability        DeepTriangle mape   0.10034020\n",
       "3 private_passenger_auto DeepTriangle mape   0.02309181\n",
       "4 workers_compensation   DeepTriangle mape   0.04077074\n",
       "5 commercial_auto        DeepTriangle rmspe  0.05824160\n",
       "6 other_liability        DeepTriangle rmspe  0.14807261\n",
       "7 private_passenger_auto DeepTriangle rmspe  0.03739412\n",
       "8 workers_compensation   DeepTriangle rmspe  0.06608241"
      ]
     },
     "metadata": {},
     "output_type": "display_data"
    }
   ],
   "source": [
    "model_results"
   ]
  }
 ],
 "metadata": {
  "kernelspec": {
   "display_name": "R",
   "language": "R",
   "name": "ir"
  },
  "language_info": {
   "codemirror_mode": "r",
   "file_extension": ".r",
   "mimetype": "text/x-r-source",
   "name": "R",
   "pygments_lexer": "r",
   "version": "4.0.5"
  },
  "papermill": {
   "default_parameters": {},
   "duration": 723.197675,
   "end_time": "2022-11-29T18:46:27.393592",
   "environment_variables": {},
   "exception": null,
   "input_path": "__notebook__.ipynb",
   "output_path": "__notebook__.ipynb",
   "parameters": {},
   "start_time": "2022-11-29T18:34:24.195917",
   "version": "2.4.0"
  }
 },
 "nbformat": 4,
 "nbformat_minor": 5
}
